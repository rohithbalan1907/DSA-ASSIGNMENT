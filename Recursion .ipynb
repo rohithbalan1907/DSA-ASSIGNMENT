{
 "cells": [
  {
   "cell_type": "code",
   "execution_count": 1,
   "id": "93ed88dd-edd2-430e-a212-5a81386d8351",
   "metadata": {},
   "outputs": [
    {
     "name": "stdout",
     "output_type": "stream",
     "text": [
      "Move disk 1 from rod A to rod C\n",
      "Move disk 2 from rod A to rod B\n",
      "Move disk 1 from rod C to rod B\n",
      "Move disk 3 from rod A to rod C\n",
      "Move disk 1 from rod B to rod A\n",
      "Move disk 2 from rod B to rod C\n",
      "Move disk 1 from rod A to rod C\n"
     ]
    }
   ],
   "source": [
    "#Write a program to implement the Tower of Hanoi problem.\n",
    "\n",
    "def TowerOfHanoi(n, from_rod, to_rod, aux_rod):\n",
    "    if n == 0:\n",
    "        return\n",
    "    TowerOfHanoi(n-1, from_rod, aux_rod, to_rod)\n",
    "    print(\"Move disk\", n, \"from rod\", from_rod, \"to rod\", to_rod)\n",
    "    TowerOfHanoi(n-1, aux_rod, to_rod, from_rod)\n",
    "N = 3\n",
    "TowerOfHanoi(N, 'A', 'C', 'B')"
   ]
  },
  {
   "cell_type": "code",
   "execution_count": 2,
   "id": "12bc7711-f37b-4ebd-a1bc-5018f2321cf6",
   "metadata": {},
   "outputs": [
    {
     "name": "stdout",
     "output_type": "stream",
     "text": [
      "Sum of digits in 12345 is 15\n"
     ]
    }
   ],
   "source": [
    "#Write a program to find the sum of digits of a number using recursion.\n",
    "\n",
    "def sum_of_digit( n ):\n",
    "    if n == 0:\n",
    "        return 0\n",
    "    return (n % 10 + sum_of_digit(int(n / 10)))\n",
    "num = 12345\n",
    "result = sum_of_digit(num)\n",
    "print(\"Sum of digits in\",num,\"is\", result)"
   ]
  },
  {
   "cell_type": "code",
   "execution_count": 3,
   "id": "750fa0a1-7f9f-4e30-90d6-dc8a15b2b1ad",
   "metadata": {},
   "outputs": [
    {
     "name": "stdout",
     "output_type": "stream",
     "text": [
      "GCD of 98 and 56 is 14\n"
     ]
    }
   ],
   "source": [
    "#Write a recursive function for GCD calculation.\n",
    "\n",
    "def gcd(a, b):\n",
    "    result = min(a, b)\n",
    "    while result:\n",
    "        if a % result == 0 and b % result == 0:\n",
    "            break\n",
    "        result -= 1\n",
    "    return result\n",
    "if __name__ == '__main__':\n",
    "    a = 98\n",
    "    b = 56\n",
    "    print(f\"GCD of {a} and {b} is {gcd(a, b)}\")"
   ]
  },
  {
   "cell_type": "code",
   "execution_count": 4,
   "id": "ae7c7369-1e26-441f-bdea-ae999c16f6c2",
   "metadata": {},
   "outputs": [
    {
     "name": "stdout",
     "output_type": "stream",
     "text": [
      "0 1 1 2 3 5 8 13 21 "
     ]
    }
   ],
   "source": [
    "#Write a program to print Fibonacci series using mutual recursion.\n",
    "\n",
    "def fib(n, prev1, prev2):\n",
    "    if n < 3:\n",
    "        return\n",
    "    fn = prev1 + prev2\n",
    "    prev2 = prev1\n",
    "    prev1 = fn\n",
    "    print(fn, end=\" \")\n",
    "    fib(n - 1, prev1, prev2)\n",
    "    \n",
    "def print_fib(n):\n",
    "    if n < 1:\n",
    "        print(\"Invalid number of terms\")\n",
    "    elif n == 1:\n",
    "        print(0)\n",
    "    elif n == 2:\n",
    "        print(\"0 1\")\n",
    "    else:\n",
    "        print(\"0 1\", end=\" \")\n",
    "        fib(n, 1, 0)\n",
    "if __name__ == \"__main__\":\n",
    "    n = 9\n",
    "    print_fib(n)"
   ]
  },
  {
   "cell_type": "code",
   "execution_count": 5,
   "id": "59a9b6e2-6f8c-468a-bd65-bfb7502566de",
   "metadata": {},
   "outputs": [
    {
     "name": "stdout",
     "output_type": "stream",
     "text": [
      "1010\n"
     ]
    }
   ],
   "source": [
    "#Write a recursive function to convert a decimal number to its equivalent binary number.\n",
    "\n",
    "def find( decimal_number ):\n",
    "    if decimal_number == 0:\n",
    "        return 0\n",
    "    else:\n",
    "        return (decimal_number % 2 + 10 *\n",
    "                find(int(decimal_number // 2)))\n",
    " \n",
    "# Driver Code\n",
    "decimal_number = 10\n",
    "print(find(decimal_number))"
   ]
  },
  {
   "cell_type": "code",
   "execution_count": 6,
   "id": "1f3c6735-e3d0-4c78-ae25-924b91251b2d",
   "metadata": {},
   "outputs": [
    {
     "name": "stdout",
     "output_type": "stream",
     "text": [
      "count of zero is 6\n"
     ]
    }
   ],
   "source": [
    "#Write a recursive function to count the number of zeroes in an integer.\n",
    "\n",
    "class GFG :\n",
    "    @staticmethod\n",
    "    def  firstzeroindex( arr,  n) :\n",
    "        i = 0\n",
    "        while (i < n) :\n",
    "            if (arr[i] == 0) :\n",
    "                return i\n",
    "            i += 1\n",
    "        return -1\n",
    "    @staticmethod\n",
    "    def main( args) :\n",
    "        arr = [1, 1, 1, 1, 1, 0, 0, 0, 0, 0, 0]\n",
    "        n = len(arr)\n",
    "        x = GFG.firstzeroindex(arr, n)\n",
    "        if (x == -1) :\n",
    "            print(\"Count of zero is 0\")\n",
    "        else :\n",
    "            print(\"count of zero is \", end =\"\")\n",
    "            print(n - x)\n",
    "if __name__==\"__main__\":\n",
    "    GFG.main([])"
   ]
  },
  {
   "cell_type": "code",
   "execution_count": 7,
   "id": "22d67d71-5e82-4cef-a2f9-6bb7c2069187",
   "metadata": {},
   "outputs": [
    {
     "name": "stdout",
     "output_type": "stream",
     "text": [
      "15\n"
     ]
    }
   ],
   "source": [
    "#Write a recursive function to find the sum of the first n natural numbers.\n",
    "\n",
    "def recurSum(n): \n",
    "    if n <= 1: \n",
    "        return n \n",
    "    return n + recurSum(n - 1) \n",
    "n = 5\n",
    "print(recurSum(n))"
   ]
  },
  {
   "cell_type": "code",
   "execution_count": 8,
   "id": "f0fcec7e-9eac-4e2c-b0f5-9ec12192299d",
   "metadata": {},
   "outputs": [
    {
     "name": "stdout",
     "output_type": "stream",
     "text": [
      "5\n"
     ]
    }
   ],
   "source": [
    "#Write a recursive function to count the number of digits in an integer\n",
    "\n",
    "def countDigit(n):\n",
    "    if n == 0:\n",
    "        return 1\n",
    "    count = 0\n",
    "    while n != 0:\n",
    "        n = n // 10\n",
    "        count += 1\n",
    "    return count\n",
    "if __name__ == \"__main__\":\n",
    "  n = 58964\n",
    "  print(countDigit(n))"
   ]
  },
  {
   "cell_type": "code",
   "execution_count": 9,
   "id": "044de55e-d432-476c-bdec-61670f668261",
   "metadata": {},
   "outputs": [
    {
     "name": "stdout",
     "output_type": "stream",
     "text": [
      "5\n"
     ]
    }
   ],
   "source": [
    "#Write a recursive function to count the number of odd digits in an integer.\n",
    "\n",
    "def count_odd_digits(n):\n",
    "    if n < 10:\n",
    "        return 1 if n % 2 == 1 else 0\n",
    "    return (1 if (n % 10) % 2 == 1 else 0) + count_odd_digits(n // 10)\n",
    "num = 123456789\n",
    "print(count_odd_digits(num))  # Output: 5\n"
   ]
  },
  {
   "cell_type": "code",
   "execution_count": 10,
   "id": "38b1ef8b-4c88-4095-bd27-85770d834528",
   "metadata": {},
   "outputs": [
    {
     "name": "stdout",
     "output_type": "stream",
     "text": [
      "6\n"
     ]
    }
   ],
   "source": [
    "#write a recursive function to find the length of a string.\n",
    "\n",
    "str = \"Aarush\"\n",
    "def string_length(str) :\n",
    "    if str == '':\n",
    "        return 0\n",
    "    else :\n",
    "        return 1 + string_length(str[1:]) \n",
    "print (string_length(str))"
   ]
  },
  {
   "cell_type": "code",
   "execution_count": 11,
   "id": "73e9df1d-001b-468e-b8f0-d5cdb2a604d7",
   "metadata": {},
   "outputs": [
    {
     "name": "stdout",
     "output_type": "stream",
     "text": [
      "hsuraA"
     ]
    }
   ],
   "source": [
    "#Write a recursive function to print a string in reverse order.\n",
    "\n",
    "def reverse(string):\n",
    "    if len(string) == 0:\n",
    "        return\n",
    "     \n",
    "    temp = string[0]\n",
    "    reverse(string[1:])\n",
    "    print(temp, end='')\n",
    "string = \"Aarush\"\n",
    "reverse(string)"
   ]
  },
  {
   "cell_type": "code",
   "execution_count": 12,
   "id": "db2af9c9-46dd-476f-aafe-be6f8a15ccb4",
   "metadata": {},
   "outputs": [
    {
     "name": "stdout",
     "output_type": "stream",
     "text": [
      "2\n"
     ]
    }
   ],
   "source": [
    "#write a recursive function to count the number of vowels in a string.\n",
    "\n",
    "def isVowel(ch): \n",
    "    return ch.upper() in ['A', 'E', 'I', 'O', 'U'] \n",
    "def countVowels(str): \n",
    "    count = 0\n",
    "    for i in range(len(str)): \n",
    "        if isVowel(str[i]): \n",
    "            count += 1\n",
    "    return count \n",
    "str = 'abc de' \n",
    "print(countVowels(str))"
   ]
  },
  {
   "cell_type": "code",
   "execution_count": 13,
   "id": "55ee51ae-fdb5-4d24-a6b5-74c9b8c9fe40",
   "metadata": {},
   "outputs": [
    {
     "name": "stdout",
     "output_type": "stream",
     "text": [
      "The number of digits in the string 'abc123def456' is 6\n"
     ]
    }
   ],
   "source": [
    "def count_digits_in_string(s):\n",
    "    # Base case: if the string is empty, return 0\n",
    "    if s == \"\":\n",
    "        return 0\n",
    "    # Recursive case: check if the first character is a digit\n",
    "    elif s[0].isdigit():\n",
    "        return 1 + count_digits_in_string(s[1:])  # Add 1 if it's a digit\n",
    "    else:\n",
    "        return count_digits_in_string(s[1:])  # Skip if it's not a digit\n",
    "\n",
    "s = \"abc123def456\"\n",
    "print(f\"The number of digits in the string '{s}' is {count_digits_in_string(s)}\")"
   ]
  },
  {
   "cell_type": "code",
   "execution_count": 14,
   "id": "e7a89176-922e-4735-80d7-eacb3943df87",
   "metadata": {},
   "outputs": [
    {
     "name": "stdout",
     "output_type": "stream",
     "text": [
      "The number is odd\n"
     ]
    }
   ],
   "source": [
    "def iseven(n):\n",
    "    if n == 0:\n",
    "        return True\n",
    "    elif n == 1:\n",
    "        return False\n",
    "    elif n > 1:\n",
    "        return isodd(n - 1)\n",
    "    elif n < 0:\n",
    "        return iseven(-n)\n",
    "def isodd(n):\n",
    "    return not iseven(n)\n",
    "num = -5\n",
    "if iseven(num):\n",
    "    print(\"The number is even\")\n",
    "else:\n",
    "    print(\"The number is odd\")"
   ]
  },
  {
   "cell_type": "code",
   "execution_count": 15,
   "id": "3d00231a-44ad-48ca-93a9-cb9f6fb06397",
   "metadata": {},
   "outputs": [
    {
     "name": "stdout",
     "output_type": "stream",
     "text": [
      "Fibonacci number at position 5 is 3\n"
     ]
    }
   ],
   "source": [
    "def fibonacci(n):\n",
    "    if n < 1:\n",
    "        return -1\n",
    "    elif n==1:\n",
    "        return 0\n",
    "    elif n==2:\n",
    "        return 1\n",
    "    else:\n",
    "        return fibonacci(n-1) + fibonacci(n-2)\n",
    "n = 5 \n",
    "print(f\"Fibonacci number at position {n} is {fibonacci(n)}\")"
   ]
  },
  {
   "cell_type": "code",
   "execution_count": 16,
   "id": "23d8aa7f-e71f-41cd-91ef-f9d0fedc4c1a",
   "metadata": {},
   "outputs": [
    {
     "name": "stdin",
     "output_type": "stream",
     "text": [
      "Enter any number:  6\n"
     ]
    },
    {
     "name": "stdout",
     "output_type": "stream",
     "text": [
      "Factorial output: 720\n"
     ]
    }
   ],
   "source": [
    "def factorial(num):\n",
    "    if num == 0:\n",
    "        return 1\n",
    "    else:\n",
    "        return num*factorial(num-1)\n",
    "n = int(input(\"Enter any number: \"))\n",
    "fact = factorial(n)\n",
    "print(\"Factorial output:\",fact)"
   ]
  },
  {
   "cell_type": "code",
   "execution_count": 17,
   "id": "8e3eb1a2-d31f-43cc-9c3a-b02c837cc994",
   "metadata": {},
   "outputs": [
    {
     "name": "stdin",
     "output_type": "stream",
     "text": [
      "Enter any number: 6\n",
      "Enter exponent: 2\n"
     ]
    },
    {
     "name": "stdout",
     "output_type": "stream",
     "text": [
      "Result: 36\n"
     ]
    }
   ],
   "source": [
    "def power(a,b):\n",
    "    if b == 0:\n",
    "        return 1\n",
    "    else:\n",
    "        return a*power(a,b-1)\n",
    "num = int(input(\"Enter any number:\"))\n",
    "exp = int(input(\"Enter exponent:\"))\n",
    "result = power(num,exp)\n",
    "print(\"Result:\",result)"
   ]
  },
  {
   "cell_type": "code",
   "execution_count": null,
   "id": "1ddce618-efc4-46f6-a0c6-cd2c9dc34828",
   "metadata": {},
   "outputs": [],
   "source": []
  }
 ],
 "metadata": {
  "kernelspec": {
   "display_name": "Python 3 (ipykernel)",
   "language": "python",
   "name": "python3"
  },
  "language_info": {
   "codemirror_mode": {
    "name": "ipython",
    "version": 3
   },
   "file_extension": ".py",
   "mimetype": "text/x-python",
   "name": "python",
   "nbconvert_exporter": "python",
   "pygments_lexer": "ipython3",
   "version": "3.12.7"
  }
 },
 "nbformat": 4,
 "nbformat_minor": 5
}
